{
  "nbformat": 4,
  "nbformat_minor": 0,
  "metadata": {
    "colab": {
      "name": "GroupProject1",
      "provenance": [],
      "collapsed_sections": [],
      "include_colab_link": true
    },
    "kernelspec": {
      "name": "python3",
      "display_name": "Python 3"
    }
  },
  "cells": [
    {
      "cell_type": "markdown",
      "metadata": {
        "id": "view-in-github",
        "colab_type": "text"
      },
      "source": [
        "<a href=\"https://colab.research.google.com/github/hek5118/GroupProject1/blob/master/GroupProject1.ipynb\" target=\"_parent\"><img src=\"https://colab.research.google.com/assets/colab-badge.svg\" alt=\"Open In Colab\"/></a>"
      ]
    },
    {
      "cell_type": "markdown",
      "metadata": {
        "id": "KiLLKSwWXYNO",
        "colab_type": "text"
      },
      "source": [
        "Idea 1 - Target\n",
        "\n",
        "Goal/purpose: To figure out the most popular time of shopping (including days of the week)\n",
        "\n",
        "Tables: 1. Number of transactions\n",
        "            2. Sales per hour \n",
        "            3. Employees on shift\n",
        "            4. Number of cars in the parking lot \n",
        "            5. Number of people in the store \n",
        "\n",
        "Description: Our idea is to find the most popular time of shopping for customers throughout the week, on each day. In order to make an easy deduction of this we have come up with five tables to store relevant data that would signal peak hours of shopping in the day . \n",
        "What makes our idea unique would probably be the tables we made and the kind of data we would enter in those tables. \n",
        "The idea utilizes the working of an existing business, Target\n",
        "The first table will record the number of transactions for each day and each hour. We can use this to determine when more transactions occur throughout the week.\n",
        "The second table will record the amount of sales each hour throughout the week.\n",
        "The third table will record the name of the employees on shift at the time. With this, we can see if there is a relationship between who is working and how popular our store is.\n",
        "The fourth table will record the number of cars in the parking lot at the beginning of each hour. With this information we can relate the number of cars and people in our store to see how many people the average car brings to our store.\n",
        "The fifth table will record the number of people in the store at that time. With this information, we can compare the number of transactions and sales to see if there is a relationship between how many people come to the store and how much we sell. \n",
        "Overall, with this information, we can determine which employees bring us more success as well as when we should expect more people to enter our store.\n",
        "\n",
        "\n",
        "\n",
        "\n",
        "\n",
        "\n",
        "Idea 2 - Happy Valley Brewery\n",
        "\n",
        "Goal/purpose: which menu items are the most popular\n",
        "\n",
        "Tables: 1. Menu items and their costs\n",
        "Table 2: waiters/ waitresses working\n",
        "Table 3: tables to sit at\n",
        "Table 4: food price\n",
        "Table 5: customer purchases\n",
        "\n",
        "Description:\n",
        "This is a database for finding out which menu item is the most popular at Happy Valley Brewery in Lemont, PA.  This is not a brand new business as Happy Valley is already in operation. \n",
        "A typical day at Happy Valley would consist of people coming in for lunch and then the majority of customers coming in around dinner time.  \n",
        "The most popular time for customers to come in would be dinner so that is when the most sales are happening and the most staff are working.  This also makes it the best time to find out the most popular item on the menu. \n",
        "Our tables include menu items and their cost, the waiters/waitresses working, hours of restaurant operation, the number of times each menu item is ordered, and the money made on each item.  \n",
        "The menu items and cost would show the price range of the menu to help determine reasonable prices for each item for maximum profit.  \n",
        "The waiters/ waitresses working will help show the busy and down time for the restaurant depending on the number of people working at each time.  \n",
        "The hours of operation table will help the restaurant determine what times it should be open and closed depending on when the most and least customers come in.  \n",
        "The number of times each menu item is ordered will show the most popular food menu item based off of customer preference.  \n",
        "The money made on each item will help the restaurant determine which items to keep on the menu and which ones to switch out for something new.\n",
        "\n",
        "Idea 3 - New Movie Theatre\n",
        "\n",
        "Goal/purpose: most profitable time period \n",
        "\n",
        "Tables: 1. # of Employees on shift  \n",
        "\t 2. Sales of tickets\n",
        "\t 3. Sales of popcorn/candy\n",
        "\t 4. Movie times \n",
        "\t 5. # of seats filled in each theatre \n",
        "\n",
        "Description: \n",
        "\n",
        "For this idea, our goal is to calculate the most profitable time period of the business. This is a brand new movie theatre we plan to have open in State College, Pennsylvania. \n",
        "What makes this idea unique is that we are brainstorming a new business that did not previously exist to come up with a database template on how to calculate the most profitable business times. \n",
        "A typical day of business would include a few dozen movie ticket sales followed by various food sales such as popcorn, candy, sodas, or slushies. Not everyone who buys a ticket to a movie buys a food item, but everyone who buys a food item has purchased a movie ticket. \n",
        "Our tables include the number of employees on shift, the number of tickets sold every hour, the number of food items sold every hour, the hours of which a movie is showing, and the number of seats filled in every theatre per hour. \n",
        "The employees per shift table would show us the need for workers, which in a movie theatre would be driven by the popularity of the business in certain hours. \n",
        "The number of tickets and the number of food items sold per hour would both show us the number of people in the theatre, as well as our profits in that hour. \n",
        "The hours of the movie times would help us understand and predict the popular customer times, which heavily contributes to our most profitable hours.\n",
        "Finally, the number of seats filled in a theatre would show us the busiest movie at a given time and help us count the number of customers. "
      ]
    },
    {
      "cell_type": "markdown",
      "metadata": {
        "id": "42CIqN30hztF",
        "colab_type": "text"
      },
      "source": [
        "![alt text](https://raw.githubusercontent.com/hek5118/GroupProject1/master/TargetDrawio.png)"
      ]
    },
    {
      "cell_type": "markdown",
      "metadata": {
        "id": "9hDLGzbVg9o7",
        "colab_type": "text"
      },
      "source": [
        "![alt text](https://raw.githubusercontent.com/allykurland/IST201-Spring2020/master/Happy%20Valley.jpg)"
      ]
    },
    {
      "cell_type": "markdown",
      "metadata": {
        "id": "NMifgiQthBLx",
        "colab_type": "text"
      },
      "source": [
        ""
      ]
    },
    {
      "cell_type": "markdown",
      "metadata": {
        "id": "zp8AszSyXrtL",
        "colab_type": "text"
      },
      "source": [
        "![alt text](https://raw.githubusercontent.com/hek5118/GroupProject1/master/MovieTheater.png)"
      ]
    }
  ]
}